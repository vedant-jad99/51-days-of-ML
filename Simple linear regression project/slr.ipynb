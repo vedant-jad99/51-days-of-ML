{
 "cells": [
  {
   "cell_type": "markdown",
   "metadata": {},
   "source": [
    "# Simple Linear Regression implementation from scratch"
   ]
  },
  {
   "cell_type": "markdown",
   "metadata": {},
   "source": [
    "#### Day 3 was spent in learning the fundamentals of simple linear regression and the indepth math about the optimisation techniques and thee accuracy metrics. Today, that is on day 4, is the implementation part. The simple linear regression is to be implemented using all three optimisation techniques, namely:\n",
    "1. Batch Gradient Descent\n",
    "2. Stochastic Gradient Descent\n",
    "3. Mini Batch Gradient Descent"
   ]
  },
  {
   "cell_type": "markdown",
   "metadata": {},
   "source": [
    "## First, let's import the necessary libraries."
   ]
  },
  {
   "cell_type": "code",
   "execution_count": 1,
   "metadata": {},
   "outputs": [],
   "source": [
    "import numpy as np \n",
    "import matplotlib.pyplot as plt \n",
    "import pandas as pd\n",
    "from random import random, shuffle, randint\n",
    "import os\n",
    "%matplotlib inline"
   ]
  },
  {
   "cell_type": "markdown",
   "metadata": {},
   "source": [
    "#### For this, the GRE scores v/s Chance of Admission dataset. Here the dependant variable will be the chance of Admit and the independant variable will be the GRE scores. We can take the inverse of this too, and it **will imply correlation**, but it **doesn't imply causation.** Hence the choice. \n",
    "## Now let's import the dataset"
   ]
  },
  {
   "cell_type": "code",
   "execution_count": 2,
   "metadata": {},
   "outputs": [],
   "source": [
    "\n",
    "os.chdir('/home/thedarkcoder/Desktop/Projects/51 days of ML/Simple linear regression project/')\n",
    "dataset = pd.read_csv('Admission_Predict.csv')"
   ]
  },
  {
   "cell_type": "markdown",
   "metadata": {},
   "source": [
    "## Let's take a look at the data"
   ]
  },
  {
   "cell_type": "code",
   "execution_count": 143,
   "metadata": {
    "tags": []
   },
   "outputs": [
    {
     "name": "stdout",
     "output_type": "stream",
     "text": [
      "     Serial No.  GRE Score  TOEFL Score  University Rating  SOP  LOR   CGPA  \\\n",
      "112         113        301          107                  3  3.5   3.5  8.34   \n",
      "339         340        324          107                  5  3.5   4.0  8.66   \n",
      "91           92        299           97                  3  5.0   3.5  7.66   \n",
      "259         260        331          119                  4  5.0   4.5  9.34   \n",
      "59           60        311          104                  2  2.0   2.0  8.30   \n",
      "130         131        339          114                  5  4.0   4.5  9.76   \n",
      "156         157        315          105                  3  2.0   2.5  8.34   \n",
      "187         188        335          118                  5  4.5   3.5  9.44   \n",
      "390         391        314          102                  2  2.0   2.5  8.24   \n",
      "149         150        311          106                  2  3.5   3.0  8.26   \n",
      "\n",
      "     Research  Chance of Admit   \n",
      "112         1              0.62  \n",
      "339         1              0.81  \n",
      "91          0              0.38  \n",
      "259         1              0.90  \n",
      "59          0              0.42  \n",
      "130         1              0.96  \n",
      "156         0              0.70  \n",
      "187         1              0.93  \n",
      "390         0              0.64  \n",
      "149         1              0.79  \n",
      "\n",
      "Length - 400\n",
      "\n",
      "Null values - \n",
      "Serial No.           0\n",
      "GRE Score            0\n",
      "TOEFL Score          0\n",
      "University Rating    0\n",
      "SOP                  0\n",
      "LOR                  0\n",
      "CGPA                 0\n",
      "Research             0\n",
      "Chance of Admit      0\n",
      "dtype: int64\n"
     ]
    }
   ],
   "source": [
    "print(dataset.sample(10))\n",
    "print(\"\\nLength - \" + str(len(dataset)) +\"\\n\")\n",
    "print(\"Null values - \")\n",
    "print(dataset.isnull().sum())"
   ]
  },
  {
   "cell_type": "markdown",
   "metadata": {},
   "source": [
    "#### No missing data. Hence, no need for preprocessing.\n",
    "## Now let's select the dependent and independent variables. \n",
    "#### Since we are doing simple linear regression, we will chose only one dependent variable"
   ]
  },
  {
   "cell_type": "code",
   "execution_count": 144,
   "metadata": {
    "tags": []
   },
   "outputs": [
    {
     "name": "stdout",
     "output_type": "stream",
     "text": [
      "0      337\n",
      "1      324\n",
      "2      316\n",
      "3      322\n",
      "4      314\n",
      "      ... \n",
      "395    324\n",
      "396    325\n",
      "397    330\n",
      "398    312\n",
      "399    333\n",
      "Name: GRE Score, Length: 400, dtype: int64 \n",
      " 0      0.92\n",
      "1      0.76\n",
      "2      0.72\n",
      "3      0.80\n",
      "4      0.65\n",
      "       ... \n",
      "395    0.82\n",
      "396    0.84\n",
      "397    0.91\n",
      "398    0.67\n",
      "399    0.95\n",
      "Name: Chance of Admit , Length: 400, dtype: float64\n"
     ]
    }
   ],
   "source": [
    "X = dataset[\"GRE Score\"]\n",
    "y = dataset.iloc[:, -1]\n",
    "print(X, \"\\n\", y)"
   ]
  },
  {
   "cell_type": "markdown",
   "metadata": {},
   "source": [
    "## Now let's plot the data and check the relation."
   ]
  },
  {
   "cell_type": "code",
   "execution_count": 152,
   "metadata": {
    "tags": []
   },
   "outputs": [
    {
     "data": {
      "image/png": "[encoded data removed]",
      "text/plain": [
       "<Figure size 432x288 with 1 Axes>"
      ]
     },
     "metadata": {
      "needs_background": "light"
     },
     "output_type": "display_data"
    }
   ],
   "source": [
    "plt.scatter(X, y, c=\"red\")\n",
    "plt.xlabel(\"GRE Score\")\n",
    "plt.ylabel(\"Chance of Admit\")\n",
    "plt.show()"
   ]
  },
  {
   "cell_type": "markdown",
   "metadata": {},
   "source": [
    "#### The data looks linear. Now,\n",
    "## Lets build a simple linear regression model"
   ]
  },
  {
   "cell_type": "code",
   "execution_count": 164,
   "metadata": {},
   "outputs": [],
   "source": [
    "class SimpleLinearRegression:\n",
    "    def __init__(self, lr=0.001, epoch=10000, optimizer='grad'):\n",
    "        self.weight = 0.0\n",
    "        self.constant = 0.0\n",
    "        self.learning_rate = lr\n",
    "        self.epochs = epoch\n",
    "        self.optimizer = optimizer\n",
    "    def fit(self, X, y):\n",
    "        N = len(X)\n",
    "        maximum = max(X)\n",
    "        X = X/maximum\n",
    "        for _ in range(self.epochs):\n",
    "            y_pred = self.weight * X + self.constant\n",
    "            self.grad_descent(X, y, y_pred, N)\n",
    "        self.weight = self.weight/maximum\n",
    "    def predict(self, X):\n",
    "        return self.weight * X + self.constant\n",
    "    def grad_descent(self, X, y, y_pred, N):\n",
    "        dw = (y_pred - y).dot(X)\n",
    "        db = np.array(sum((y_pred - y)))\n",
    "        self.weight -= self.learning_rate * dw\n",
    "        self.constant -= self.learning_rate * db"
   ]
  },
  {
   "cell_type": "markdown",
   "metadata": {},
   "source": [
    "## Let's split our data into training and testing datasets"
   ]
  },
  {
   "cell_type": "code",
   "execution_count": 165,
   "metadata": {
    "tags": []
   },
   "outputs": [
    {
     "name": "stdout",
     "output_type": "stream",
     "text": [
      "(360,)\n"
     ]
    }
   ],
   "source": [
    "X_train = np.array(X[:-40])\n",
    "y_train = np.array(y[:-40])\n",
    "X_test, y_test = np.array(X[-40:]), np.array(y[-40:])\n",
    "print(y_train.shape)"
   ]
  },
  {
   "cell_type": "markdown",
   "metadata": {},
   "source": [
    "## Creating the simple linear regression class object\n",
    "The fit function fits the data into the linear regression model and gives the parameters of the best fit line, which are the weights or coefficients and constant also called as intercept or bias."
   ]
  },
  {
   "cell_type": "code",
   "execution_count": 166,
   "metadata": {
    "tags": []
   },
   "outputs": [],
   "source": [
    "lr = SimpleLinearRegression(epoch=100000)\n",
    "lr.fit(X_train, y_train)"
   ]
  },
  {
   "cell_type": "code",
   "execution_count": 167,
   "metadata": {},
   "outputs": [
    {
     "data": {
      "text/plain": [
       "0.009691298767553154"
      ]
     },
     "execution_count": 167,
     "metadata": {},
     "output_type": "execute_result"
    }
   ],
   "source": [
    "lr.weight"
   ]
  },
  {
   "cell_type": "code",
   "execution_count": 168,
   "metadata": {},
   "outputs": [
    {
     "data": {
      "text/plain": [
       "-2.345455164566775"
      ]
     },
     "execution_count": 168,
     "metadata": {},
     "output_type": "execute_result"
    }
   ],
   "source": [
    "lr.constant"
   ]
  },
  {
   "cell_type": "markdown",
   "metadata": {},
   "source": [
    "## Plotting the best fit line"
   ]
  },
  {
   "cell_type": "code",
   "execution_count": 169,
   "metadata": {},
   "outputs": [
    {
     "data": {
      "text/plain": [
       "<matplotlib.collections.PathCollection at 0x7f936f3d17f0>"
      ]
     },
     "execution_count": 169,
     "metadata": {},
     "output_type": "execute_result"
    },
    {
     "data": {
      "image/png": "[encoded data removed]",
      "text/plain": [
       "<Figure size 432x288 with 1 Axes>"
      ]
     },
     "metadata": {
      "needs_background": "light"
     },
     "output_type": "display_data"
    }
   ],
   "source": [
    "plt.plot(X_train, lr.weight * X_train + lr.constant, color=\"purple\")\n",
    "plt.xlabel(\"SAT Scores\")\n",
    "plt.ylabel(\"Chance of Admit\")\n",
    "plt.scatter(X_train, y_train, color=\"orange\")"
   ]
  },
  {
   "cell_type": "markdown",
   "metadata": {},
   "source": [
    "## Checking the predictions for the testing dataset"
   ]
  },
  {
   "cell_type": "code",
   "execution_count": 179,
   "metadata": {},
   "outputs": [
    {
     "name": "stdout",
     "output_type": "stream",
     "text": [
      "[0.77514304 0.89143862 0.93020382 0.62008226 0.68792135 0.85267343\n",
      " 0.75576044 0.66853875 0.54255187 0.57162576 0.65884745 0.79452564\n",
      " 0.91082122 0.76545174 0.70730395 0.60069966 0.53286057 0.46502148\n",
      " 0.59100836 0.66853875 0.77514304 0.74606914 0.79452564 0.56193447\n",
      " 0.94958642 0.90112992 0.58131706 0.62977356 0.52316927 0.75576044\n",
      " 0.69761265 0.73637784 0.81390823 0.72668654 0.84298213 0.79452564\n",
      " 0.80421693 0.85267343 0.67823005 0.88174733]\n"
     ]
    },
    {
     "data": {
      "text/plain": [
       "array([0.85, 0.93, 0.91, 0.69, 0.77, 0.86, 0.74, 0.57, 0.51, 0.67, 0.72,\n",
       "       0.89, 0.95, 0.79, 0.39, 0.38, 0.34, 0.47, 0.56, 0.71, 0.78, 0.73,\n",
       "       0.82, 0.62, 0.96, 0.96, 0.46, 0.53, 0.49, 0.76, 0.64, 0.71, 0.84,\n",
       "       0.77, 0.89, 0.82, 0.84, 0.91, 0.67, 0.95])"
      ]
     },
     "execution_count": 179,
     "metadata": {},
     "output_type": "execute_result"
    }
   ],
   "source": [
    "print(lr.predict(X_test))\n",
    "y_test"
   ]
  },
  {
   "cell_type": "markdown",
   "metadata": {},
   "source": [
    "## Let's check with the scikit learn module"
   ]
  },
  {
   "cell_type": "code",
   "execution_count": 160,
   "metadata": {},
   "outputs": [
    {
     "data": {
      "text/plain": [
       "LinearRegression()"
      ]
     },
     "execution_count": 160,
     "metadata": {},
     "output_type": "execute_result"
    }
   ],
   "source": [
    "from sklearn.linear_model import LinearRegression\n",
    "\n",
    "sklr = LinearRegression()\n",
    "sklr.fit(X_train.reshape(-1, 1), y_train)"
   ]
  },
  {
   "cell_type": "code",
   "execution_count": 161,
   "metadata": {},
   "outputs": [
    {
     "data": {
      "text/plain": [
       "-2.345455166107054"
      ]
     },
     "execution_count": 161,
     "metadata": {},
     "output_type": "execute_result"
    }
   ],
   "source": [
    "sklr.intercept_"
   ]
  },
  {
   "cell_type": "code",
   "execution_count": 162,
   "metadata": {},
   "outputs": [
    {
     "data": {
      "text/plain": [
       "array([0.0096913])"
      ]
     },
     "execution_count": 162,
     "metadata": {},
     "output_type": "execute_result"
    }
   ],
   "source": [
    "sklr.coef_"
   ]
  },
  {
   "cell_type": "markdown",
   "metadata": {},
   "source": [
    "## Their coefficients are 0.0096913 and intercept is -2.345455166 which is very very close to ours.\n",
    "\n",
    "# Success!!"
   ]
  }
 ],
 "metadata": {
  "kernelspec": {
   "display_name": "Python 3.8.2 64-bit",
   "language": "python",
   "name": "python38264bit59e8aac788024cfaa91784a09d4cf6dc"
  },
  "language_info": {
   "codemirror_mode": {
    "name": "ipython",
    "version": 3
   },
   "file_extension": ".py",
   "mimetype": "text/x-python",
   "name": "python",
   "nbconvert_exporter": "python",
   "pygments_lexer": "ipython3",
   "version": "3.8.5"
  }
 },
 "nbformat": 4,
 "nbformat_minor": 2
}
