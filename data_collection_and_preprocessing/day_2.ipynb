{
 "metadata": {
  "language_info": {
   "codemirror_mode": {
    "name": "ipython",
    "version": 3
   },
   "file_extension": ".py",
   "mimetype": "text/x-python",
   "name": "python",
   "nbconvert_exporter": "python",
   "pygments_lexer": "ipython3",
   "version": "3.8.2-final"
  },
  "orig_nbformat": 2,
  "kernelspec": {
   "name": "python38264bit59e8aac788024cfaa91784a09d4cf6dc",
   "display_name": "Python 3.8.2 64-bit"
  }
 },
 "nbformat": 4,
 "nbformat_minor": 2,
 "cells": [
  {
   "cell_type": "code",
   "execution_count": 50,
   "metadata": {
    "tags": []
   },
   "outputs": [],
   "source": [
    "import numpy as np\n",
    "import matplotlib.pyplot as pyplot\n",
    "import pandas as pd\n",
    "import seaborn as sns\n",
    "import os\n",
    "from sklearn.impute import SimpleImputer\n",
    "from sklearn.preprocessing import LabelEncoder, OneHotEncoder\n",
    "from sklearn.compose import ColumnTransformer"
   ]
  },
  {
   "cell_type": "code",
   "execution_count": 61,
   "metadata": {
    "tags": []
   },
   "outputs": [
    {
     "output_type": "execute_result",
     "data": {
      "text/plain": "hotel                             119390\nis_canceled                       119390\nlead_time                         119390\narrival_date_year                 119390\narrival_date_month                119390\narrival_date_week_number          119390\narrival_date_day_of_month         119390\nstays_in_weekend_nights           119390\nstays_in_week_nights              119390\nadults                            119390\nchildren                          119386\nbabies                            119390\nmeal                              119390\ncountry                           118902\nmarket_segment                    119390\ndistribution_channel              119390\nis_repeated_guest                 119390\nprevious_cancellations            119390\nprevious_bookings_not_canceled    119390\nreserved_room_type                119390\nassigned_room_type                119390\nbooking_changes                   119390\ndeposit_type                      119390\nagent                             103050\ncompany                             6797\ndays_in_waiting_list              119390\ncustomer_type                     119390\nadr                               119390\nrequired_car_parking_spaces       119390\ntotal_of_special_requests         119390\nreservation_status                119390\nreservation_status_date           119390\ndtype: int64"
     },
     "metadata": {},
     "execution_count": 61
    }
   ],
   "source": [
    "#checking which columns have missing values\n",
    "data = pd.read_csv('/home/thedarkcoder/Desktop/Projects/51 days of ML/data_collection_and_preprocessing/hotel_bookings.csv')\n",
    "data.count()"
   ]
  },
  {
   "cell_type": "code",
   "execution_count": 62,
   "metadata": {
    "tags": []
   },
   "outputs": [
    {
     "output_type": "execute_result",
     "data": {
      "text/plain": "          hotel  is_canceled  lead_time  arrival_date_year arrival_date_month  \\\n0  Resort Hotel            0        342               2015               July   \n1  Resort Hotel            0        737               2015               July   \n2  Resort Hotel            0          7               2015               July   \n3  Resort Hotel            0         13               2015               July   \n4  Resort Hotel            0         14               2015               July   \n\n   arrival_date_week_number  arrival_date_day_of_month  \\\n0                        27                          1   \n1                        27                          1   \n2                        27                          1   \n3                        27                          1   \n4                        27                          1   \n\n   stays_in_weekend_nights  stays_in_week_nights  adults  ...  \\\n0                        0                     0       2  ...   \n1                        0                     0       2  ...   \n2                        0                     1       1  ...   \n3                        0                     1       1  ...   \n4                        0                     2       2  ...   \n\n   booking_changes  deposit_type  agent days_in_waiting_list customer_type  \\\n0                3    No Deposit    NaN                    0     Transient   \n1                4    No Deposit    NaN                    0     Transient   \n2                0    No Deposit    NaN                    0     Transient   \n3                0    No Deposit  304.0                    0     Transient   \n4                0    No Deposit  240.0                    0     Transient   \n\n    adr  required_car_parking_spaces  total_of_special_requests  \\\n0   0.0                            0                          0   \n1   0.0                            0                          0   \n2  75.0                            0                          0   \n3  75.0                            0                          0   \n4  98.0                            0                          1   \n\n   reservation_status reservation_status_date  \n0           Check-Out              2015-07-01  \n1           Check-Out              2015-07-01  \n2           Check-Out              2015-07-02  \n3           Check-Out              2015-07-02  \n4           Check-Out              2015-07-03  \n\n[5 rows x 31 columns]",
      "text/html": "<div>\n<style scoped>\n    .dataframe tbody tr th:only-of-type {\n        vertical-align: middle;\n    }\n\n    .dataframe tbody tr th {\n        vertical-align: top;\n    }\n\n    .dataframe thead th {\n        text-align: right;\n    }\n</style>\n<table border=\"1\" class=\"dataframe\">\n  <thead>\n    <tr style=\"text-align: right;\">\n      <th></th>\n      <th>hotel</th>\n      <th>is_canceled</th>\n      <th>lead_time</th>\n      <th>arrival_date_year</th>\n      <th>arrival_date_month</th>\n      <th>arrival_date_week_number</th>\n      <th>arrival_date_day_of_month</th>\n      <th>stays_in_weekend_nights</th>\n      <th>stays_in_week_nights</th>\n      <th>adults</th>\n      <th>...</th>\n      <th>booking_changes</th>\n      <th>deposit_type</th>\n      <th>agent</th>\n      <th>days_in_waiting_list</th>\n      <th>customer_type</th>\n      <th>adr</th>\n      <th>required_car_parking_spaces</th>\n      <th>total_of_special_requests</th>\n      <th>reservation_status</th>\n      <th>reservation_status_date</th>\n    </tr>\n  </thead>\n  <tbody>\n    <tr>\n      <th>0</th>\n      <td>Resort Hotel</td>\n      <td>0</td>\n      <td>342</td>\n      <td>2015</td>\n      <td>July</td>\n      <td>27</td>\n      <td>1</td>\n      <td>0</td>\n      <td>0</td>\n      <td>2</td>\n      <td>...</td>\n      <td>3</td>\n      <td>No Deposit</td>\n      <td>NaN</td>\n      <td>0</td>\n      <td>Transient</td>\n      <td>0.0</td>\n      <td>0</td>\n      <td>0</td>\n      <td>Check-Out</td>\n      <td>2015-07-01</td>\n    </tr>\n    <tr>\n      <th>1</th>\n      <td>Resort Hotel</td>\n      <td>0</td>\n      <td>737</td>\n      <td>2015</td>\n      <td>July</td>\n      <td>27</td>\n      <td>1</td>\n      <td>0</td>\n      <td>0</td>\n      <td>2</td>\n      <td>...</td>\n      <td>4</td>\n      <td>No Deposit</td>\n      <td>NaN</td>\n      <td>0</td>\n      <td>Transient</td>\n      <td>0.0</td>\n      <td>0</td>\n      <td>0</td>\n      <td>Check-Out</td>\n      <td>2015-07-01</td>\n    </tr>\n    <tr>\n      <th>2</th>\n      <td>Resort Hotel</td>\n      <td>0</td>\n      <td>7</td>\n      <td>2015</td>\n      <td>July</td>\n      <td>27</td>\n      <td>1</td>\n      <td>0</td>\n      <td>1</td>\n      <td>1</td>\n      <td>...</td>\n      <td>0</td>\n      <td>No Deposit</td>\n      <td>NaN</td>\n      <td>0</td>\n      <td>Transient</td>\n      <td>75.0</td>\n      <td>0</td>\n      <td>0</td>\n      <td>Check-Out</td>\n      <td>2015-07-02</td>\n    </tr>\n    <tr>\n      <th>3</th>\n      <td>Resort Hotel</td>\n      <td>0</td>\n      <td>13</td>\n      <td>2015</td>\n      <td>July</td>\n      <td>27</td>\n      <td>1</td>\n      <td>0</td>\n      <td>1</td>\n      <td>1</td>\n      <td>...</td>\n      <td>0</td>\n      <td>No Deposit</td>\n      <td>304.0</td>\n      <td>0</td>\n      <td>Transient</td>\n      <td>75.0</td>\n      <td>0</td>\n      <td>0</td>\n      <td>Check-Out</td>\n      <td>2015-07-02</td>\n    </tr>\n    <tr>\n      <th>4</th>\n      <td>Resort Hotel</td>\n      <td>0</td>\n      <td>14</td>\n      <td>2015</td>\n      <td>July</td>\n      <td>27</td>\n      <td>1</td>\n      <td>0</td>\n      <td>2</td>\n      <td>2</td>\n      <td>...</td>\n      <td>0</td>\n      <td>No Deposit</td>\n      <td>240.0</td>\n      <td>0</td>\n      <td>Transient</td>\n      <td>98.0</td>\n      <td>0</td>\n      <td>1</td>\n      <td>Check-Out</td>\n      <td>2015-07-03</td>\n    </tr>\n  </tbody>\n</table>\n<p>5 rows × 31 columns</p>\n</div>"
     },
     "metadata": {},
     "execution_count": 62
    }
   ],
   "source": [
    "#Dropping the company column as lot of missing data\n",
    "data.drop(['company'], axis=1, inplace=True)\n",
    "data.head()"
   ]
  },
  {
   "cell_type": "code",
   "execution_count": 63,
   "metadata": {
    "tags": []
   },
   "outputs": [
    {
     "output_type": "stream",
     "name": "stdout",
     "text": "4\n488\n"
    },
    {
     "output_type": "execute_result",
     "data": {
      "text/plain": "16340"
     },
     "metadata": {},
     "execution_count": 63
    }
   ],
   "source": [
    "#Checking the number of missing values in children, country and agent column\n",
    "print(data['children'].isnull().sum())\n",
    "print(data['country'].isnull().sum())\n",
    "data['agent'].isnull().sum()"
   ]
  },
  {
   "cell_type": "code",
   "execution_count": 64,
   "metadata": {
    "tags": []
   },
   "outputs": [
    {
     "output_type": "execute_result",
     "data": {
      "text/plain": "               hotel  is_canceled  lead_time  arrival_date_year  \\\n0       Resort Hotel            0        342               2015   \n1       Resort Hotel            0        737               2015   \n2       Resort Hotel            0          7               2015   \n3       Resort Hotel            0         13               2015   \n4       Resort Hotel            0         14               2015   \n...              ...          ...        ...                ...   \n119385    City Hotel            0         23               2017   \n119386    City Hotel            0        102               2017   \n119387    City Hotel            0         34               2017   \n119388    City Hotel            0        109               2017   \n119389    City Hotel            0        205               2017   \n\n       arrival_date_month  arrival_date_week_number  \\\n0                    July                        27   \n1                    July                        27   \n2                    July                        27   \n3                    July                        27   \n4                    July                        27   \n...                   ...                       ...   \n119385             August                        35   \n119386             August                        35   \n119387             August                        35   \n119388             August                        35   \n119389             August                        35   \n\n        arrival_date_day_of_month  stays_in_weekend_nights  \\\n0                               1                        0   \n1                               1                        0   \n2                               1                        0   \n3                               1                        0   \n4                               1                        0   \n...                           ...                      ...   \n119385                         30                        2   \n119386                         31                        2   \n119387                         31                        2   \n119388                         31                        2   \n119389                         29                        2   \n\n        stays_in_week_nights  adults  ...  booking_changes  deposit_type  \\\n0                          0       2  ...                3    No Deposit   \n1                          0       2  ...                4    No Deposit   \n2                          1       1  ...                0    No Deposit   \n3                          1       1  ...                0    No Deposit   \n4                          2       2  ...                0    No Deposit   \n...                      ...     ...  ...              ...           ...   \n119385                     5       2  ...                0    No Deposit   \n119386                     5       3  ...                0    No Deposit   \n119387                     5       2  ...                0    No Deposit   \n119388                     5       2  ...                0    No Deposit   \n119389                     7       2  ...                0    No Deposit   \n\n        agent days_in_waiting_list customer_type     adr  \\\n0         NaN                    0     Transient    0.00   \n1         NaN                    0     Transient    0.00   \n2         NaN                    0     Transient   75.00   \n3       304.0                    0     Transient   75.00   \n4       240.0                    0     Transient   98.00   \n...       ...                  ...           ...     ...   \n119385  394.0                    0     Transient   96.14   \n119386    9.0                    0     Transient  225.43   \n119387    9.0                    0     Transient  157.71   \n119388   89.0                    0     Transient  104.40   \n119389    9.0                    0     Transient  151.20   \n\n        required_car_parking_spaces  total_of_special_requests  \\\n0                                 0                          0   \n1                                 0                          0   \n2                                 0                          0   \n3                                 0                          0   \n4                                 0                          1   \n...                             ...                        ...   \n119385                            0                          0   \n119386                            0                          2   \n119387                            0                          4   \n119388                            0                          0   \n119389                            0                          2   \n\n        reservation_status reservation_status_date  \n0                Check-Out              2015-07-01  \n1                Check-Out              2015-07-01  \n2                Check-Out              2015-07-02  \n3                Check-Out              2015-07-02  \n4                Check-Out              2015-07-03  \n...                    ...                     ...  \n119385           Check-Out              2017-09-06  \n119386           Check-Out              2017-09-07  \n119387           Check-Out              2017-09-07  \n119388           Check-Out              2017-09-07  \n119389           Check-Out              2017-09-07  \n\n[118898 rows x 31 columns]",
      "text/html": "<div>\n<style scoped>\n    .dataframe tbody tr th:only-of-type {\n        vertical-align: middle;\n    }\n\n    .dataframe tbody tr th {\n        vertical-align: top;\n    }\n\n    .dataframe thead th {\n        text-align: right;\n    }\n</style>\n<table border=\"1\" class=\"dataframe\">\n  <thead>\n    <tr style=\"text-align: right;\">\n      <th></th>\n      <th>hotel</th>\n      <th>is_canceled</th>\n      <th>lead_time</th>\n      <th>arrival_date_year</th>\n      <th>arrival_date_month</th>\n      <th>arrival_date_week_number</th>\n      <th>arrival_date_day_of_month</th>\n      <th>stays_in_weekend_nights</th>\n      <th>stays_in_week_nights</th>\n      <th>adults</th>\n      <th>...</th>\n      <th>booking_changes</th>\n      <th>deposit_type</th>\n      <th>agent</th>\n      <th>days_in_waiting_list</th>\n      <th>customer_type</th>\n      <th>adr</th>\n      <th>required_car_parking_spaces</th>\n      <th>total_of_special_requests</th>\n      <th>reservation_status</th>\n      <th>reservation_status_date</th>\n    </tr>\n  </thead>\n  <tbody>\n    <tr>\n      <th>0</th>\n      <td>Resort Hotel</td>\n      <td>0</td>\n      <td>342</td>\n      <td>2015</td>\n      <td>July</td>\n      <td>27</td>\n      <td>1</td>\n      <td>0</td>\n      <td>0</td>\n      <td>2</td>\n      <td>...</td>\n      <td>3</td>\n      <td>No Deposit</td>\n      <td>NaN</td>\n      <td>0</td>\n      <td>Transient</td>\n      <td>0.00</td>\n      <td>0</td>\n      <td>0</td>\n      <td>Check-Out</td>\n      <td>2015-07-01</td>\n    </tr>\n    <tr>\n      <th>1</th>\n      <td>Resort Hotel</td>\n      <td>0</td>\n      <td>737</td>\n      <td>2015</td>\n      <td>July</td>\n      <td>27</td>\n      <td>1</td>\n      <td>0</td>\n      <td>0</td>\n      <td>2</td>\n      <td>...</td>\n      <td>4</td>\n      <td>No Deposit</td>\n      <td>NaN</td>\n      <td>0</td>\n      <td>Transient</td>\n      <td>0.00</td>\n      <td>0</td>\n      <td>0</td>\n      <td>Check-Out</td>\n      <td>2015-07-01</td>\n    </tr>\n    <tr>\n      <th>2</th>\n      <td>Resort Hotel</td>\n      <td>0</td>\n      <td>7</td>\n      <td>2015</td>\n      <td>July</td>\n      <td>27</td>\n      <td>1</td>\n      <td>0</td>\n      <td>1</td>\n      <td>1</td>\n      <td>...</td>\n      <td>0</td>\n      <td>No Deposit</td>\n      <td>NaN</td>\n      <td>0</td>\n      <td>Transient</td>\n      <td>75.00</td>\n      <td>0</td>\n      <td>0</td>\n      <td>Check-Out</td>\n      <td>2015-07-02</td>\n    </tr>\n    <tr>\n      <th>3</th>\n      <td>Resort Hotel</td>\n      <td>0</td>\n      <td>13</td>\n      <td>2015</td>\n      <td>July</td>\n      <td>27</td>\n      <td>1</td>\n      <td>0</td>\n      <td>1</td>\n      <td>1</td>\n      <td>...</td>\n      <td>0</td>\n      <td>No Deposit</td>\n      <td>304.0</td>\n      <td>0</td>\n      <td>Transient</td>\n      <td>75.00</td>\n      <td>0</td>\n      <td>0</td>\n      <td>Check-Out</td>\n      <td>2015-07-02</td>\n    </tr>\n    <tr>\n      <th>4</th>\n      <td>Resort Hotel</td>\n      <td>0</td>\n      <td>14</td>\n      <td>2015</td>\n      <td>July</td>\n      <td>27</td>\n      <td>1</td>\n      <td>0</td>\n      <td>2</td>\n      <td>2</td>\n      <td>...</td>\n      <td>0</td>\n      <td>No Deposit</td>\n      <td>240.0</td>\n      <td>0</td>\n      <td>Transient</td>\n      <td>98.00</td>\n      <td>0</td>\n      <td>1</td>\n      <td>Check-Out</td>\n      <td>2015-07-03</td>\n    </tr>\n    <tr>\n      <th>...</th>\n      <td>...</td>\n      <td>...</td>\n      <td>...</td>\n      <td>...</td>\n      <td>...</td>\n      <td>...</td>\n      <td>...</td>\n      <td>...</td>\n      <td>...</td>\n      <td>...</td>\n      <td>...</td>\n      <td>...</td>\n      <td>...</td>\n      <td>...</td>\n      <td>...</td>\n      <td>...</td>\n      <td>...</td>\n      <td>...</td>\n      <td>...</td>\n      <td>...</td>\n      <td>...</td>\n    </tr>\n    <tr>\n      <th>119385</th>\n      <td>City Hotel</td>\n      <td>0</td>\n      <td>23</td>\n      <td>2017</td>\n      <td>August</td>\n      <td>35</td>\n      <td>30</td>\n      <td>2</td>\n      <td>5</td>\n      <td>2</td>\n      <td>...</td>\n      <td>0</td>\n      <td>No Deposit</td>\n      <td>394.0</td>\n      <td>0</td>\n      <td>Transient</td>\n      <td>96.14</td>\n      <td>0</td>\n      <td>0</td>\n      <td>Check-Out</td>\n      <td>2017-09-06</td>\n    </tr>\n    <tr>\n      <th>119386</th>\n      <td>City Hotel</td>\n      <td>0</td>\n      <td>102</td>\n      <td>2017</td>\n      <td>August</td>\n      <td>35</td>\n      <td>31</td>\n      <td>2</td>\n      <td>5</td>\n      <td>3</td>\n      <td>...</td>\n      <td>0</td>\n      <td>No Deposit</td>\n      <td>9.0</td>\n      <td>0</td>\n      <td>Transient</td>\n      <td>225.43</td>\n      <td>0</td>\n      <td>2</td>\n      <td>Check-Out</td>\n      <td>2017-09-07</td>\n    </tr>\n    <tr>\n      <th>119387</th>\n      <td>City Hotel</td>\n      <td>0</td>\n      <td>34</td>\n      <td>2017</td>\n      <td>August</td>\n      <td>35</td>\n      <td>31</td>\n      <td>2</td>\n      <td>5</td>\n      <td>2</td>\n      <td>...</td>\n      <td>0</td>\n      <td>No Deposit</td>\n      <td>9.0</td>\n      <td>0</td>\n      <td>Transient</td>\n      <td>157.71</td>\n      <td>0</td>\n      <td>4</td>\n      <td>Check-Out</td>\n      <td>2017-09-07</td>\n    </tr>\n    <tr>\n      <th>119388</th>\n      <td>City Hotel</td>\n      <td>0</td>\n      <td>109</td>\n      <td>2017</td>\n      <td>August</td>\n      <td>35</td>\n      <td>31</td>\n      <td>2</td>\n      <td>5</td>\n      <td>2</td>\n      <td>...</td>\n      <td>0</td>\n      <td>No Deposit</td>\n      <td>89.0</td>\n      <td>0</td>\n      <td>Transient</td>\n      <td>104.40</td>\n      <td>0</td>\n      <td>0</td>\n      <td>Check-Out</td>\n      <td>2017-09-07</td>\n    </tr>\n    <tr>\n      <th>119389</th>\n      <td>City Hotel</td>\n      <td>0</td>\n      <td>205</td>\n      <td>2017</td>\n      <td>August</td>\n      <td>35</td>\n      <td>29</td>\n      <td>2</td>\n      <td>7</td>\n      <td>2</td>\n      <td>...</td>\n      <td>0</td>\n      <td>No Deposit</td>\n      <td>9.0</td>\n      <td>0</td>\n      <td>Transient</td>\n      <td>151.20</td>\n      <td>0</td>\n      <td>2</td>\n      <td>Check-Out</td>\n      <td>2017-09-07</td>\n    </tr>\n  </tbody>\n</table>\n<p>118898 rows × 31 columns</p>\n</div>"
     },
     "metadata": {},
     "execution_count": 64
    }
   ],
   "source": [
    "#Removing the rows with missing values\n",
    "count = []\n",
    "for pos, i in enumerate(data['children']):\n",
    "    if str(i) == 'nan':\n",
    "        count.append(pos)\n",
    "for pos, i in enumerate(data['country']):\n",
    "    if str(i) =='nan' and pos not in count:\n",
    "        count.append(pos)\n",
    "data.drop(count)"
   ]
  },
  {
   "cell_type": "code",
   "execution_count": 65,
   "metadata": {
    "tags": []
   },
   "outputs": [
    {
     "output_type": "stream",
     "name": "stdout",
     "text": "City Hotel      79330\nResort Hotel    40060\nName: hotel, dtype: int64 0\n0    75166\n1    44224\nName: is_canceled, dtype: int64 1\n0      6345\n1      3460\n2      2069\n3      1816\n4      1715\n       ... \n458       1\n371       1\n737       1\n435       1\n387       1\nName: lead_time, Length: 479, dtype: int64 2\n2016    56707\n2017    40687\n2015    21996\nName: arrival_date_year, dtype: int64 3\nAugust       13877\nJuly         12661\nMay          11791\nOctober      11160\nApril        11089\nJune         10939\nSeptember    10508\nMarch         9794\nFebruary      8068\nNovember      6794\nDecember      6780\nJanuary       5929\nName: arrival_date_month, dtype: int64 4\n33    3580\n30    3087\n32    3045\n34    3040\n18    2926\n21    2854\n28    2853\n17    2805\n20    2785\n29    2763\n42    2756\n31    2741\n41    2699\n15    2689\n27    2664\n25    2663\n38    2661\n23    2621\n35    2593\n39    2581\n22    2546\n24    2498\n13    2416\n16    2405\n19    2402\n40    2397\n26    2391\n43    2352\n44    2272\n14    2264\n37    2229\n8     2216\n36    2167\n10    2149\n9     2117\n7     2109\n12    2083\n11    2070\n45    1941\n53    1816\n49    1782\n47    1685\n46    1574\n6     1508\n50    1505\n48    1504\n4     1487\n5     1387\n3     1319\n2     1218\n52    1195\n1     1047\n51     933\nName: arrival_date_week_number, dtype: int64 5\n17    4406\n5     4317\n15    4196\n25    4160\n26    4147\n9     4096\n12    4087\n16    4078\n2     4055\n19    4052\n20    4032\n18    4002\n24    3993\n28    3946\n8     3921\n3     3855\n30    3853\n6     3833\n14    3819\n27    3802\n21    3767\n4     3763\n13    3745\n7     3665\n1     3626\n23    3616\n11    3599\n22    3596\n29    3580\n10    3575\n31    2208\nName: arrival_date_day_of_month, dtype: int64 6\n0     51998\n2     33308\n1     30626\n4      1855\n3      1259\n6       153\n5        79\n8        60\n7        19\n9        11\n10        7\n12        5\n13        3\n16        3\n14        2\n18        1\n19        1\nName: stays_in_weekend_nights, dtype: int64 7\n2     33684\n1     30310\n3     22258\n5     11077\n4      9563\n0      7645\n6      1499\n10     1036\n7      1029\n8       656\n9       231\n15       85\n11       56\n19       44\n12       42\n20       41\n14       35\n13       27\n16       16\n21       15\n22        7\n18        6\n25        6\n30        5\n17        4\n24        3\n40        2\n42        1\n26        1\n32        1\n33        1\n34        1\n35        1\n41        1\n50        1\nName: stays_in_week_nights, dtype: int64 8\n2     89680\n1     23027\n3      6202\n0       403\n4        62\n26        5\n27        2\n20        2\n5         2\n55        1\n50        1\n40        1\n10        1\n6         1\nName: adults, dtype: int64 9\n0.0     110796\n1.0       4861\n2.0       3652\n3.0         76\n10.0         1\nName: children, dtype: int64 10\n0     118473\n1        900\n2         15\n10         1\n9          1\nName: babies, dtype: int64 11\nBB           92310\nHB           14463\nSC           10650\nUndefined     1169\nFB             798\nName: meal, dtype: int64 12\nPRT    48590\nGBR    12129\nFRA    10415\nESP     8568\nDEU     7287\n       ...  \nSDN        1\nPLW        1\nAIA        1\nVGB        1\nBHS        1\nName: country, Length: 177, dtype: int64 13\nOnline TA        56477\nOffline TA/TO    24219\nGroups           19811\nDirect           12606\nCorporate         5295\nComplementary      743\nAviation           237\nUndefined            2\nName: market_segment, dtype: int64 14\nTA/TO        97870\nDirect       14645\nCorporate     6677\nGDS            193\nUndefined        5\nName: distribution_channel, dtype: int64 15\n0    115580\n1      3810\nName: is_repeated_guest, dtype: int64 16\n0     112906\n1       6051\n2        116\n3         65\n24        48\n11        35\n4         31\n26        26\n25        25\n6         22\n19        19\n5         19\n14        14\n13        12\n21         1\nName: previous_cancellations, dtype: int64 17\n0     115770\n1       1542\n2        580\n3        333\n4        229\n       ...  \n47         1\n36         1\n49         1\n50         1\n63         1\nName: previous_bookings_not_canceled, Length: 73, dtype: int64 18\nA    85994\nD    19201\nE     6535\nF     2897\nG     2094\nB     1118\nC      932\nH      601\nP       12\nL        6\nName: reserved_room_type, dtype: int64 19\nA    74053\nD    25322\nE     7806\nF     3751\nG     2553\nC     2375\nB     2163\nH      712\nI      363\nK      279\nP       12\nL        1\nName: assigned_room_type, dtype: int64 20\n0     101314\n1      12701\n2       3805\n3        927\n4        376\n5        118\n6         63\n7         31\n8         17\n9          8\n10         6\n13         5\n14         5\n15         3\n11         2\n12         2\n16         2\n17         2\n20         1\n18         1\n21         1\nName: booking_changes, dtype: int64 21\nNo Deposit    104641\nNon Refund     14587\nRefundable       162\nName: deposit_type, dtype: int64 22\n9.0      31961\n240.0    13922\n1.0       7191\n14.0      3640\n7.0       3539\n         ...  \n213.0        1\n433.0        1\n197.0        1\n367.0        1\n337.0        1\nName: agent, Length: 333, dtype: int64 23\n0      115692\n39        227\n58        164\n44        141\n31        127\n        ...  \n175         1\n117         1\n89          1\n92          1\n183         1\nName: days_in_waiting_list, Length: 128, dtype: int64 24\nTransient          89613\nTransient-Party    25124\nContract            4076\nGroup                577\nName: customer_type, dtype: int64 25\n62.00     3754\n75.00     2715\n90.00     2473\n65.00     2418\n0.00      1959\n          ... \n202.74       1\n87.64        1\n69.83        1\n160.83       1\n35.64        1\nName: adr, Length: 8879, dtype: int64 26\n0    111974\n1      7383\n2        28\n3         3\n8         2\nName: required_car_parking_spaces, dtype: int64 27\n0    70318\n1    33226\n2    12969\n3     2497\n4      340\n5       40\nName: total_of_special_requests, dtype: int64 28\nCheck-Out    75166\nCanceled     43017\nNo-Show       1207\nName: reservation_status, dtype: int64 29\n2015-10-21    1461\n2015-07-06     805\n2016-11-25     790\n2015-01-01     763\n2016-01-18     625\n              ... \n2015-03-28       1\n2015-02-06       1\n2015-04-25       1\n2015-01-29       1\n2015-01-28       1\nName: reservation_status_date, Length: 926, dtype: int64 30\n"
    }
   ],
   "source": [
    "#Checking the data format\n",
    "for i, col in enumerate(data.columns):\n",
    "    print(data[col].value_counts(), i)"
   ]
  },
  {
   "cell_type": "code",
   "execution_count": 66,
   "metadata": {},
   "outputs": [
    {
     "output_type": "execute_result",
     "data": {
      "text/plain": "   hotel  is_canceled  lead_time  arrival_date_year arrival_date_month  \\\n0      1            0        342               2015               July   \n1      1            0        737               2015               July   \n2      1            0          7               2015               July   \n3      1            0         13               2015               July   \n4      1            0         14               2015               July   \n\n   arrival_date_week_number  arrival_date_day_of_month  \\\n0                        27                          1   \n1                        27                          1   \n2                        27                          1   \n3                        27                          1   \n4                        27                          1   \n\n   stays_in_weekend_nights  stays_in_week_nights  adults  ...  \\\n0                        0                     0       2  ...   \n1                        0                     0       2  ...   \n2                        0                     1       1  ...   \n3                        0                     1       1  ...   \n4                        0                     2       2  ...   \n\n   booking_changes  deposit_type  agent days_in_waiting_list customer_type  \\\n0                3    No Deposit    NaN                    0     Transient   \n1                4    No Deposit    NaN                    0     Transient   \n2                0    No Deposit    NaN                    0     Transient   \n3                0    No Deposit  304.0                    0     Transient   \n4                0    No Deposit  240.0                    0     Transient   \n\n    adr  required_car_parking_spaces  total_of_special_requests  \\\n0   0.0                            0                          0   \n1   0.0                            0                          0   \n2  75.0                            0                          0   \n3  75.0                            0                          0   \n4  98.0                            0                          1   \n\n   reservation_status reservation_status_date  \n0           Check-Out              2015-07-01  \n1           Check-Out              2015-07-01  \n2           Check-Out              2015-07-02  \n3           Check-Out              2015-07-02  \n4           Check-Out              2015-07-03  \n\n[5 rows x 31 columns]",
      "text/html": "<div>\n<style scoped>\n    .dataframe tbody tr th:only-of-type {\n        vertical-align: middle;\n    }\n\n    .dataframe tbody tr th {\n        vertical-align: top;\n    }\n\n    .dataframe thead th {\n        text-align: right;\n    }\n</style>\n<table border=\"1\" class=\"dataframe\">\n  <thead>\n    <tr style=\"text-align: right;\">\n      <th></th>\n      <th>hotel</th>\n      <th>is_canceled</th>\n      <th>lead_time</th>\n      <th>arrival_date_year</th>\n      <th>arrival_date_month</th>\n      <th>arrival_date_week_number</th>\n      <th>arrival_date_day_of_month</th>\n      <th>stays_in_weekend_nights</th>\n      <th>stays_in_week_nights</th>\n      <th>adults</th>\n      <th>...</th>\n      <th>booking_changes</th>\n      <th>deposit_type</th>\n      <th>agent</th>\n      <th>days_in_waiting_list</th>\n      <th>customer_type</th>\n      <th>adr</th>\n      <th>required_car_parking_spaces</th>\n      <th>total_of_special_requests</th>\n      <th>reservation_status</th>\n      <th>reservation_status_date</th>\n    </tr>\n  </thead>\n  <tbody>\n    <tr>\n      <th>0</th>\n      <td>1</td>\n      <td>0</td>\n      <td>342</td>\n      <td>2015</td>\n      <td>July</td>\n      <td>27</td>\n      <td>1</td>\n      <td>0</td>\n      <td>0</td>\n      <td>2</td>\n      <td>...</td>\n      <td>3</td>\n      <td>No Deposit</td>\n      <td>NaN</td>\n      <td>0</td>\n      <td>Transient</td>\n      <td>0.0</td>\n      <td>0</td>\n      <td>0</td>\n      <td>Check-Out</td>\n      <td>2015-07-01</td>\n    </tr>\n    <tr>\n      <th>1</th>\n      <td>1</td>\n      <td>0</td>\n      <td>737</td>\n      <td>2015</td>\n      <td>July</td>\n      <td>27</td>\n      <td>1</td>\n      <td>0</td>\n      <td>0</td>\n      <td>2</td>\n      <td>...</td>\n      <td>4</td>\n      <td>No Deposit</td>\n      <td>NaN</td>\n      <td>0</td>\n      <td>Transient</td>\n      <td>0.0</td>\n      <td>0</td>\n      <td>0</td>\n      <td>Check-Out</td>\n      <td>2015-07-01</td>\n    </tr>\n    <tr>\n      <th>2</th>\n      <td>1</td>\n      <td>0</td>\n      <td>7</td>\n      <td>2015</td>\n      <td>July</td>\n      <td>27</td>\n      <td>1</td>\n      <td>0</td>\n      <td>1</td>\n      <td>1</td>\n      <td>...</td>\n      <td>0</td>\n      <td>No Deposit</td>\n      <td>NaN</td>\n      <td>0</td>\n      <td>Transient</td>\n      <td>75.0</td>\n      <td>0</td>\n      <td>0</td>\n      <td>Check-Out</td>\n      <td>2015-07-02</td>\n    </tr>\n    <tr>\n      <th>3</th>\n      <td>1</td>\n      <td>0</td>\n      <td>13</td>\n      <td>2015</td>\n      <td>July</td>\n      <td>27</td>\n      <td>1</td>\n      <td>0</td>\n      <td>1</td>\n      <td>1</td>\n      <td>...</td>\n      <td>0</td>\n      <td>No Deposit</td>\n      <td>304.0</td>\n      <td>0</td>\n      <td>Transient</td>\n      <td>75.0</td>\n      <td>0</td>\n      <td>0</td>\n      <td>Check-Out</td>\n      <td>2015-07-02</td>\n    </tr>\n    <tr>\n      <th>4</th>\n      <td>1</td>\n      <td>0</td>\n      <td>14</td>\n      <td>2015</td>\n      <td>July</td>\n      <td>27</td>\n      <td>1</td>\n      <td>0</td>\n      <td>2</td>\n      <td>2</td>\n      <td>...</td>\n      <td>0</td>\n      <td>No Deposit</td>\n      <td>240.0</td>\n      <td>0</td>\n      <td>Transient</td>\n      <td>98.0</td>\n      <td>0</td>\n      <td>1</td>\n      <td>Check-Out</td>\n      <td>2015-07-03</td>\n    </tr>\n  </tbody>\n</table>\n<p>5 rows × 31 columns</p>\n</div>"
     },
     "metadata": {},
     "execution_count": 66
    }
   ],
   "source": [
    "#Encoding categorical data using LabelEncoder\n",
    "le = LabelEncoder()\n",
    "data[\"hotel\"] = le.fit_transform(data[\"hotel\"])\n",
    "data.head()"
   ]
  },
  {
   "cell_type": "code",
   "execution_count": 67,
   "metadata": {},
   "outputs": [],
   "source": [
    "#Encoding data with One Hot Encoder\n",
    "#Encoded table are meal, market_segment, distribution channel, deposit_type, customer_type, reservation_status\n",
    "ct = ColumnTransformer(transformers=[('encoder', OneHotEncoder(), [12, 14, 15, 22, 25, 29])], remainder='passthrough')\n",
    "data = np.array(ct.fit_transform(data))"
   ]
  },
  {
   "cell_type": "code",
   "execution_count": 68,
   "metadata": {},
   "outputs": [
    {
     "output_type": "execute_result",
     "data": {
      "text/plain": "(119390, 53)"
     },
     "metadata": {},
     "execution_count": 68
    }
   ],
   "source": [
    "data.shape"
   ]
  },
  {
   "cell_type": "code",
   "execution_count": 69,
   "metadata": {
    "tags": []
   },
   "outputs": [],
   "source": [
    "#Filling Missing values in agent column with 'most frequent' value\n",
    "imputer = SimpleImputer(missing_values=np.nan, strategy='most_frequent')\n",
    "data = imputer.fit_transform(data)"
   ]
  },
  {
   "cell_type": "code",
   "execution_count": 70,
   "metadata": {},
   "outputs": [
    {
     "output_type": "execute_result",
     "data": {
      "text/plain": "array([1.0, 0.0, 0.0, 0.0, 0.0, 0.0, 0.0, 0.0, 1.0, 0.0, 0.0, 0.0, 0.0,\n       0.0, 1.0, 0.0, 0.0, 0.0, 1.0, 0.0, 0.0, 0.0, 0.0, 1.0, 0.0, 0.0,\n       1.0, 0.0, 1, 0, 342, 2015, 'July', 27, 1, 0, 0, 2, 0.0, 0, 'PRT',\n       0, 0, 0, 'C', 'C', 3, 9.0, 0, 0.0, 0, 0, '2015-07-01'],\n      dtype=object)"
     },
     "metadata": {},
     "execution_count": 70
    }
   ],
   "source": [
    "data[0]"
   ]
  },
  {
   "cell_type": "code",
   "execution_count": 71,
   "metadata": {},
   "outputs": [
    {
     "output_type": "execute_result",
     "data": {
      "text/plain": "array([[1.0, 0.0, 0.0, ..., 0, 0, '2015-07-01'],\n       [1.0, 0.0, 0.0, ..., 0, 0, '2015-07-01'],\n       [1.0, 0.0, 0.0, ..., 0, 0, '2015-07-02'],\n       ...,\n       [1.0, 0.0, 0.0, ..., 0, 4, '2017-09-07'],\n       [1.0, 0.0, 0.0, ..., 0, 0, '2017-09-07'],\n       [0.0, 0.0, 1.0, ..., 0, 2, '2017-09-07']], dtype=object)"
     },
     "metadata": {},
     "execution_count": 71
    }
   ],
   "source": [
    "data"
   ]
  },
  {
   "cell_type": "code",
   "execution_count": null,
   "metadata": {},
   "outputs": [],
   "source": []
  }
 ]
}